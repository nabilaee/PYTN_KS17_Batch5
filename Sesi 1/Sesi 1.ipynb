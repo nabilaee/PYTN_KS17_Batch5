{
 "cells": [
  {
   "cell_type": "markdown",
   "id": "e4bb7f95",
   "metadata": {},
   "source": [
    "# Integer"
   ]
  },
  {
   "cell_type": "code",
   "execution_count": 1,
   "id": "a2bf0bbd",
   "metadata": {},
   "outputs": [
    {
     "data": {
      "text/plain": [
       "1000000"
      ]
     },
     "execution_count": 1,
     "metadata": {},
     "output_type": "execute_result"
    }
   ],
   "source": [
    "1000000"
   ]
  },
  {
   "cell_type": "code",
   "execution_count": 2,
   "id": "62de5992",
   "metadata": {},
   "outputs": [
    {
     "data": {
      "text/plain": [
       "int"
      ]
     },
     "execution_count": 2,
     "metadata": {},
     "output_type": "execute_result"
    }
   ],
   "source": [
    "type(10)"
   ]
  },
  {
   "cell_type": "code",
   "execution_count": 3,
   "id": "2044169f",
   "metadata": {},
   "outputs": [
    {
     "name": "stdout",
     "output_type": "stream",
     "text": [
      "10\n",
      "<class 'int'>\n"
     ]
    }
   ],
   "source": [
    "print(10)\n",
    "print(type(10))"
   ]
  },
  {
   "cell_type": "markdown",
   "id": "e1823269",
   "metadata": {},
   "source": [
    "# Floating Point"
   ]
  },
  {
   "cell_type": "code",
   "execution_count": 4,
   "id": "e6a55927",
   "metadata": {},
   "outputs": [
    {
     "name": "stdout",
     "output_type": "stream",
     "text": [
      "4.2\n",
      "<class 'float'>\n",
      "4.0\n",
      "0.2\n",
      "4000000.0\n",
      "0.00042\n"
     ]
    }
   ],
   "source": [
    "print(4.2)\n",
    "print(type(4.2))\n",
    "\n",
    "print(4.)\n",
    "print(.2)\n",
    "print(.4e7)\n",
    "print(4.2e-4)"
   ]
  },
  {
   "cell_type": "markdown",
   "id": "ee3c967d",
   "metadata": {},
   "source": [
    "# String"
   ]
  },
  {
   "cell_type": "code",
   "execution_count": 5,
   "id": "157437c2",
   "metadata": {},
   "outputs": [
    {
     "name": "stdout",
     "output_type": "stream",
     "text": [
      "PYTN-KS17\n",
      "<class 'str'>\n"
     ]
    }
   ],
   "source": [
    "print('PYTN-KS17')\n",
    "print(type('PYTN-KS17'))"
   ]
  },
  {
   "cell_type": "code",
   "execution_count": 6,
   "id": "4397bc3d",
   "metadata": {},
   "outputs": [
    {
     "name": "stdout",
     "output_type": "stream",
     "text": [
      "\n"
     ]
    }
   ],
   "source": [
    "#kosong\n",
    "print('')"
   ]
  },
  {
   "cell_type": "code",
   "execution_count": 8,
   "id": "46cfa5e7",
   "metadata": {},
   "outputs": [
    {
     "name": "stdout",
     "output_type": "stream",
     "text": [
      "this string contains single quote (') character.\n",
      "this string contains double quote (\") character.\n"
     ]
    }
   ],
   "source": [
    "print(\"this string contains single quote (') character.\")\n",
    "print('this string contains double quote (\") character.')"
   ]
  },
  {
   "cell_type": "code",
   "execution_count": 9,
   "id": "8e3ee17e",
   "metadata": {},
   "outputs": [
    {
     "name": "stdout",
     "output_type": "stream",
     "text": [
      "cobakutip\n"
     ]
    }
   ],
   "source": [
    "print('coba''kutip')"
   ]
  },
  {
   "cell_type": "markdown",
   "id": "0aab7b4c",
   "metadata": {},
   "source": [
    "# Boolean"
   ]
  },
  {
   "cell_type": "code",
   "execution_count": 10,
   "id": "c0e685f9",
   "metadata": {},
   "outputs": [
    {
     "name": "stdout",
     "output_type": "stream",
     "text": [
      "<class 'bool'>\n",
      "<class 'bool'>\n"
     ]
    }
   ],
   "source": [
    "print(type(True))\n",
    "print(type(False))"
   ]
  },
  {
   "cell_type": "markdown",
   "id": "19153c3d",
   "metadata": {},
   "source": [
    "# Variabel\n",
    "## Assignment"
   ]
  },
  {
   "cell_type": "code",
   "execution_count": 12,
   "id": "93757b35",
   "metadata": {},
   "outputs": [
    {
     "name": "stdout",
     "output_type": "stream",
     "text": [
      "300\n"
     ]
    }
   ],
   "source": [
    "n = 300\n",
    "print(n)"
   ]
  },
  {
   "cell_type": "code",
   "execution_count": 13,
   "id": "4fc91334",
   "metadata": {},
   "outputs": [
    {
     "data": {
      "text/plain": [
       "300"
      ]
     },
     "execution_count": 13,
     "metadata": {},
     "output_type": "execute_result"
    }
   ],
   "source": [
    "n"
   ]
  },
  {
   "cell_type": "code",
   "execution_count": 14,
   "id": "c69be93b",
   "metadata": {},
   "outputs": [
    {
     "name": "stdout",
     "output_type": "stream",
     "text": [
      "1000\n"
     ]
    },
    {
     "data": {
      "text/plain": [
       "1000"
      ]
     },
     "execution_count": 14,
     "metadata": {},
     "output_type": "execute_result"
    }
   ],
   "source": [
    "n = 1000\n",
    "print(n)\n",
    "n"
   ]
  },
  {
   "cell_type": "code",
   "execution_count": 15,
   "id": "4e727775",
   "metadata": {},
   "outputs": [
    {
     "name": "stdout",
     "output_type": "stream",
     "text": [
      "300 300 300\n"
     ]
    }
   ],
   "source": [
    "# Multiple Assignment\n",
    "a = 300\n",
    "b = 300\n",
    "c = 300\n",
    "print(a, b, c)"
   ]
  },
  {
   "cell_type": "markdown",
   "id": "f395471f",
   "metadata": {},
   "source": [
    "# Variable Types"
   ]
  },
  {
   "cell_type": "code",
   "execution_count": 16,
   "id": "6692a76c",
   "metadata": {},
   "outputs": [
    {
     "name": "stdout",
     "output_type": "stream",
     "text": [
      "42.0\n",
      "Jadi String\n"
     ]
    }
   ],
   "source": [
    "var = 42.0\n",
    "print(var)\n",
    "\n",
    "var = 'Jadi String'\n",
    "print(var)"
   ]
  },
  {
   "cell_type": "code",
   "execution_count": 17,
   "id": "bb5a97d3",
   "metadata": {},
   "outputs": [
    {
     "name": "stdout",
     "output_type": "stream",
     "text": [
      "Hacktiv8 69 True\n"
     ]
    }
   ],
   "source": [
    "name = 'Hacktiv8'\n",
    "Age = 69\n",
    "has_laptop = True\n",
    "\n",
    "print(name, Age, has_laptop)"
   ]
  },
  {
   "cell_type": "code",
   "execution_count": 18,
   "id": "56a375d9",
   "metadata": {},
   "outputs": [
    {
     "ename": "SyntaxError",
     "evalue": "invalid decimal literal (980072853.py, line 1)",
     "output_type": "error",
     "traceback": [
      "\u001b[1;36m  Cell \u001b[1;32mIn[18], line 1\u001b[1;36m\u001b[0m\n\u001b[1;33m    7_sins = True\u001b[0m\n\u001b[1;37m     ^\u001b[0m\n\u001b[1;31mSyntaxError\u001b[0m\u001b[1;31m:\u001b[0m invalid decimal literal\n"
     ]
    }
   ],
   "source": [
    "7_sins = True"
   ]
  },
  {
   "cell_type": "code",
   "execution_count": 19,
   "id": "af1945e8",
   "metadata": {},
   "outputs": [],
   "source": [
    "sins_7 = True"
   ]
  },
  {
   "cell_type": "code",
   "execution_count": 20,
   "id": "130a0a5c",
   "metadata": {},
   "outputs": [],
   "source": [
    "age = 1\n",
    "Age = 2\n",
    "aGe = 3\n",
    "AGE = 4\n",
    "a_g_e = 5"
   ]
  },
  {
   "cell_type": "code",
   "execution_count": 21,
   "id": "b2a8bb13",
   "metadata": {},
   "outputs": [
    {
     "name": "stdout",
     "output_type": "stream",
     "text": [
      "1 2 3 4 5\n"
     ]
    }
   ],
   "source": [
    "print(age, Age, aGe, AGE, a_g_e)"
   ]
  },
  {
   "cell_type": "code",
   "execution_count": 22,
   "id": "d31c1d4f",
   "metadata": {},
   "outputs": [],
   "source": [
    "# camelCase\n",
    "tinggiBadan = 170.0\n",
    "hasPhoneOrLaptop = True\n",
    "\n",
    "# PascalCase\n",
    "TinggiBadan = 168.0\n",
    "HasPhoneOrLaptop = False\n",
    "\n",
    "# snake_case\n",
    "tinggi_badan = 160.0\n",
    "has_phone_or_laptop = True"
   ]
  },
  {
   "cell_type": "code",
   "execution_count": 23,
   "id": "2a3d6551",
   "metadata": {},
   "outputs": [
    {
     "name": "stdout",
     "output_type": "stream",
     "text": [
      "170.0 True\n",
      "168.0 False\n",
      "160.0 True\n"
     ]
    }
   ],
   "source": [
    "print(tinggiBadan, hasPhoneOrLaptop)\n",
    "print(TinggiBadan, HasPhoneOrLaptop)\n",
    "print(tinggi_badan, has_phone_or_laptop)"
   ]
  },
  {
   "cell_type": "markdown",
   "id": "56a4d059",
   "metadata": {},
   "source": [
    "# Operators and Expression"
   ]
  },
  {
   "cell_type": "code",
   "execution_count": 24,
   "id": "6a83a57e",
   "metadata": {},
   "outputs": [
    {
     "data": {
      "text/plain": [
       "30"
      ]
     },
     "execution_count": 24,
     "metadata": {},
     "output_type": "execute_result"
    }
   ],
   "source": [
    "a = 10\n",
    "b = 20\n",
    "a+b"
   ]
  },
  {
   "cell_type": "code",
   "execution_count": 25,
   "id": "f78a5ed0",
   "metadata": {},
   "outputs": [
    {
     "data": {
      "text/plain": [
       "25"
      ]
     },
     "execution_count": 25,
     "metadata": {},
     "output_type": "execute_result"
    }
   ],
   "source": [
    "a+b-5"
   ]
  },
  {
   "cell_type": "markdown",
   "id": "634045ba",
   "metadata": {},
   "source": [
    "# Aritmethic Operators"
   ]
  },
  {
   "cell_type": "code",
   "execution_count": 26,
   "id": "b0df6f33",
   "metadata": {},
   "outputs": [
    {
     "name": "stdout",
     "output_type": "stream",
     "text": [
      "7\n",
      "1\n",
      "12\n",
      "1.3333333333333333\n",
      "1\n",
      "64\n",
      "20\n"
     ]
    }
   ],
   "source": [
    "a = 4\n",
    "b = 3\n",
    "\n",
    "print(a + b)\n",
    "print(a - b)\n",
    "print(a * b)\n",
    "print(a / b)\n",
    "print(a % b)\n",
    "print(a ** b)\n",
    "\n",
    "print(62 // 3) # Floor Division"
   ]
  },
  {
   "cell_type": "code",
   "execution_count": 27,
   "id": "c0999f6c",
   "metadata": {},
   "outputs": [
    {
     "data": {
      "text/plain": [
       "2.0"
      ]
     },
     "execution_count": 27,
     "metadata": {},
     "output_type": "execute_result"
    }
   ],
   "source": [
    "10 / 5"
   ]
  },
  {
   "cell_type": "markdown",
   "id": "0c034359",
   "metadata": {},
   "source": [
    "# Comparison Operators"
   ]
  },
  {
   "cell_type": "code",
   "execution_count": 28,
   "id": "a2397b7e",
   "metadata": {},
   "outputs": [
    {
     "name": "stdout",
     "output_type": "stream",
     "text": [
      "False\n",
      "True\n",
      "True\n",
      "False\n",
      "True\n",
      "False\n"
     ]
    }
   ],
   "source": [
    "a = 10\n",
    "b = 20\n",
    "\n",
    "print(a == b)\n",
    "print(a != b)\n",
    "print(a <= b)\n",
    "print(a >= b)\n",
    "\n",
    "print(a < b)\n",
    "print(a > b)"
   ]
  },
  {
   "cell_type": "code",
   "execution_count": 29,
   "id": "56f05c39",
   "metadata": {},
   "outputs": [
    {
     "name": "stdout",
     "output_type": "stream",
     "text": [
      "True\n",
      "True\n",
      "True\n"
     ]
    }
   ],
   "source": [
    "a = 30\n",
    "b = 30\n",
    "\n",
    "print(a == b)\n",
    "print(a <= b)\n",
    "print(a >= b)"
   ]
  },
  {
   "cell_type": "markdown",
   "id": "23713724",
   "metadata": {},
   "source": [
    "# String Manipulation"
   ]
  },
  {
   "cell_type": "code",
   "execution_count": 30,
   "id": "acb3e853",
   "metadata": {},
   "outputs": [],
   "source": [
    "s = 'foo'\n",
    "t = 'bar'\n",
    "u = 'baz'"
   ]
  },
  {
   "cell_type": "code",
   "execution_count": 31,
   "id": "34bba7d7",
   "metadata": {},
   "outputs": [
    {
     "name": "stdout",
     "output_type": "stream",
     "text": [
      "foobarbaz\n"
     ]
    }
   ],
   "source": [
    "print(s+t+u)"
   ]
  },
  {
   "cell_type": "code",
   "execution_count": 32,
   "id": "739bf6c3",
   "metadata": {},
   "outputs": [
    {
     "name": "stdout",
     "output_type": "stream",
     "text": [
      "test string\n"
     ]
    }
   ],
   "source": [
    "print('test '+'string')"
   ]
  },
  {
   "cell_type": "code",
   "execution_count": 33,
   "id": "52c60910",
   "metadata": {},
   "outputs": [
    {
     "data": {
      "text/plain": [
       "'foofoofoofoo'"
      ]
     },
     "execution_count": 33,
     "metadata": {},
     "output_type": "execute_result"
    }
   ],
   "source": [
    "s*4"
   ]
  },
  {
   "cell_type": "code",
   "execution_count": 35,
   "id": "259d0a4d",
   "metadata": {},
   "outputs": [
    {
     "name": "stdout",
     "output_type": "stream",
     "text": [
      "False\n"
     ]
    }
   ],
   "source": [
    "print(s in 'That good for us')"
   ]
  },
  {
   "cell_type": "code",
   "execution_count": 36,
   "id": "c836e8f4",
   "metadata": {},
   "outputs": [],
   "source": [
    "s = 'HackTIV8 Python test'"
   ]
  },
  {
   "cell_type": "code",
   "execution_count": 37,
   "id": "54f6b57b",
   "metadata": {},
   "outputs": [
    {
     "name": "stdout",
     "output_type": "stream",
     "text": [
      "Hacktiv8 python test\n"
     ]
    }
   ],
   "source": [
    "print(s.capitalize())"
   ]
  },
  {
   "cell_type": "code",
   "execution_count": 38,
   "id": "67778573",
   "metadata": {},
   "outputs": [
    {
     "name": "stdout",
     "output_type": "stream",
     "text": [
      "hacktiv8 python test\n"
     ]
    }
   ],
   "source": [
    "print(s.lower())"
   ]
  },
  {
   "cell_type": "code",
   "execution_count": 39,
   "id": "d8d29a5c",
   "metadata": {},
   "outputs": [
    {
     "name": "stdout",
     "output_type": "stream",
     "text": [
      "hACKtiv8 pYTHON TEST\n"
     ]
    }
   ],
   "source": [
    "print(s.swapcase())"
   ]
  },
  {
   "cell_type": "code",
   "execution_count": 40,
   "id": "765097e0",
   "metadata": {},
   "outputs": [
    {
     "name": "stdout",
     "output_type": "stream",
     "text": [
      "Hacktiv8 Python Test\n"
     ]
    }
   ],
   "source": [
    "print(s.title())"
   ]
  },
  {
   "cell_type": "code",
   "execution_count": 41,
   "id": "f30c6aa6",
   "metadata": {},
   "outputs": [
    {
     "name": "stdout",
     "output_type": "stream",
     "text": [
      "HACKTIV8 PYTHON TEST\n"
     ]
    }
   ],
   "source": [
    "print(s.upper())"
   ]
  },
  {
   "cell_type": "markdown",
   "id": "ead208bf",
   "metadata": {},
   "source": [
    "# List"
   ]
  },
  {
   "cell_type": "code",
   "execution_count": 42,
   "id": "88894e16",
   "metadata": {},
   "outputs": [],
   "source": [
    "var = ['foo', 'bar', 'baz', 'qux']\n",
    "var2 = ['bar', 'foo', 'baz', 'qux']"
   ]
  },
  {
   "cell_type": "code",
   "execution_count": 43,
   "id": "724e0c16",
   "metadata": {},
   "outputs": [
    {
     "data": {
      "text/plain": [
       "list"
      ]
     },
     "execution_count": 43,
     "metadata": {},
     "output_type": "execute_result"
    }
   ],
   "source": [
    "type(var)"
   ]
  },
  {
   "cell_type": "code",
   "execution_count": 44,
   "id": "8c812dcf",
   "metadata": {},
   "outputs": [
    {
     "data": {
      "text/plain": [
       "False"
      ]
     },
     "execution_count": 44,
     "metadata": {},
     "output_type": "execute_result"
    }
   ],
   "source": [
    "var == var2"
   ]
  },
  {
   "cell_type": "code",
   "execution_count": 45,
   "id": "a05436ce",
   "metadata": {},
   "outputs": [],
   "source": [
    "var3 = [420, 'text', True, 6.9, 'test']"
   ]
  },
  {
   "cell_type": "code",
   "execution_count": 46,
   "id": "16956b01",
   "metadata": {},
   "outputs": [
    {
     "name": "stdout",
     "output_type": "stream",
     "text": [
      "420  is  <class 'int'>\n",
      "text  is  <class 'str'>\n",
      "True  is  <class 'bool'>\n",
      "6.9  is  <class 'float'>\n",
      "test  is  <class 'str'>\n"
     ]
    }
   ],
   "source": [
    "for item in var3:\n",
    "    print(item, ' is ', type(item))"
   ]
  },
  {
   "cell_type": "code",
   "execution_count": 47,
   "id": "ad692c50",
   "metadata": {},
   "outputs": [
    {
     "name": "stdout",
     "output_type": "stream",
     "text": [
      "420\n",
      "6.9\n",
      "test\n"
     ]
    }
   ],
   "source": [
    "print(var3[0])\n",
    "print(var3[3])\n",
    "print(var3[4])"
   ]
  },
  {
   "cell_type": "code",
   "execution_count": 48,
   "id": "e059e3b5",
   "metadata": {},
   "outputs": [
    {
     "name": "stdout",
     "output_type": "stream",
     "text": [
      "test\n"
     ]
    }
   ],
   "source": [
    "print(var3[-1])"
   ]
  },
  {
   "cell_type": "code",
   "execution_count": 49,
   "id": "aa5c7483",
   "metadata": {},
   "outputs": [
    {
     "name": "stdout",
     "output_type": "stream",
     "text": [
      "['text', True, 6.9]\n"
     ]
    }
   ],
   "source": [
    "print(var3[1:4])"
   ]
  },
  {
   "cell_type": "code",
   "execution_count": 50,
   "id": "725b425a",
   "metadata": {},
   "outputs": [
    {
     "name": "stdout",
     "output_type": "stream",
     "text": [
      "[420, 'text', True, 6.9, 'test', 'grault', 'graply']\n"
     ]
    }
   ],
   "source": [
    "print(var3 + ['grault', 'graply'])"
   ]
  },
  {
   "cell_type": "code",
   "execution_count": 51,
   "id": "39233c9e",
   "metadata": {},
   "outputs": [],
   "source": [
    "var3 = var3 + ['grault', 'graply']"
   ]
  },
  {
   "cell_type": "code",
   "execution_count": 52,
   "id": "b6a6aa7a",
   "metadata": {},
   "outputs": [
    {
     "data": {
      "text/plain": [
       "[420, 'text', True, 6.9, 'test', 'grault', 'graply']"
      ]
     },
     "execution_count": 52,
     "metadata": {},
     "output_type": "execute_result"
    }
   ],
   "source": [
    "var3"
   ]
  },
  {
   "cell_type": "code",
   "execution_count": 53,
   "id": "025fcc57",
   "metadata": {},
   "outputs": [
    {
     "name": "stdout",
     "output_type": "stream",
     "text": [
      "[420, 'text', True, 6.9, 'test', 'grault', 'graply', 420, 'text', True, 6.9, 'test', 'grault', 'graply']\n"
     ]
    }
   ],
   "source": [
    "print(var3 * 2)"
   ]
  },
  {
   "cell_type": "code",
   "execution_count": 54,
   "id": "2912f62e",
   "metadata": {},
   "outputs": [
    {
     "name": "stdout",
     "output_type": "stream",
     "text": [
      "7\n"
     ]
    }
   ],
   "source": [
    "print(len(var3))"
   ]
  },
  {
   "cell_type": "code",
   "execution_count": 55,
   "id": "ac9c45f8",
   "metadata": {},
   "outputs": [
    {
     "name": "stdout",
     "output_type": "stream",
     "text": [
      "bar\n"
     ]
    }
   ],
   "source": [
    "print(min(var2))"
   ]
  },
  {
   "cell_type": "code",
   "execution_count": 56,
   "id": "57ee493d",
   "metadata": {},
   "outputs": [
    {
     "name": "stdout",
     "output_type": "stream",
     "text": [
      "qux\n"
     ]
    }
   ],
   "source": [
    "print(max(var2))"
   ]
  },
  {
   "cell_type": "code",
   "execution_count": 57,
   "id": "ca42f17e",
   "metadata": {},
   "outputs": [
    {
     "ename": "TypeError",
     "evalue": "'<' not supported between instances of 'str' and 'int'",
     "output_type": "error",
     "traceback": [
      "\u001b[1;31m---------------------------------------------------------------------------\u001b[0m",
      "\u001b[1;31mTypeError\u001b[0m                                 Traceback (most recent call last)",
      "Cell \u001b[1;32mIn[57], line 1\u001b[0m\n\u001b[1;32m----> 1\u001b[0m \u001b[38;5;28mprint\u001b[39m(\u001b[38;5;28mmin\u001b[39m(var3))\n",
      "\u001b[1;31mTypeError\u001b[0m: '<' not supported between instances of 'str' and 'int'"
     ]
    }
   ],
   "source": [
    "print(min(var3))"
   ]
  },
  {
   "cell_type": "code",
   "execution_count": 58,
   "id": "7225babc",
   "metadata": {},
   "outputs": [],
   "source": [
    "var3[3] = 20"
   ]
  },
  {
   "cell_type": "code",
   "execution_count": 59,
   "id": "6627ce76",
   "metadata": {},
   "outputs": [
    {
     "data": {
      "text/plain": [
       "[420, 'text', True, 20, 'test', 'grault', 'graply']"
      ]
     },
     "execution_count": 59,
     "metadata": {},
     "output_type": "execute_result"
    }
   ],
   "source": [
    "var3"
   ]
  },
  {
   "cell_type": "code",
   "execution_count": 62,
   "id": "54ecd6b8",
   "metadata": {},
   "outputs": [],
   "source": [
    "var3[-1]='grape'"
   ]
  },
  {
   "cell_type": "code",
   "execution_count": 64,
   "id": "505be3b2",
   "metadata": {},
   "outputs": [
    {
     "data": {
      "text/plain": [
       "[420, 'text', True, 20, 'test', 'grault', 'grape']"
      ]
     },
     "execution_count": 64,
     "metadata": {},
     "output_type": "execute_result"
    }
   ],
   "source": [
    "var3"
   ]
  },
  {
   "cell_type": "code",
   "execution_count": 65,
   "id": "32212482",
   "metadata": {},
   "outputs": [],
   "source": [
    "del var3[-3]"
   ]
  },
  {
   "cell_type": "code",
   "execution_count": 66,
   "id": "b6cc3588",
   "metadata": {},
   "outputs": [
    {
     "data": {
      "text/plain": [
       "[420, 'text', True, 20, 'grault', 'grape']"
      ]
     },
     "execution_count": 66,
     "metadata": {},
     "output_type": "execute_result"
    }
   ],
   "source": [
    "var3"
   ]
  },
  {
   "cell_type": "code",
   "execution_count": 67,
   "id": "9cb90d81",
   "metadata": {},
   "outputs": [],
   "source": [
    "var3[2:4] = [False, False, 7.5]"
   ]
  },
  {
   "cell_type": "code",
   "execution_count": 68,
   "id": "15f9aad2",
   "metadata": {},
   "outputs": [
    {
     "data": {
      "text/plain": [
       "[420, 'text', False, False, 7.5, 'grault', 'grape']"
      ]
     },
     "execution_count": 68,
     "metadata": {},
     "output_type": "execute_result"
    }
   ],
   "source": [
    "var3"
   ]
  },
  {
   "cell_type": "markdown",
   "id": "2cd99988",
   "metadata": {},
   "source": [
    "# Tuple"
   ]
  },
  {
   "cell_type": "code",
   "execution_count": 69,
   "id": "f1cc32cf",
   "metadata": {},
   "outputs": [],
   "source": [
    "t = ('foo', 'bar', 'baz', 'qux', 'quux', 'corge')"
   ]
  },
  {
   "cell_type": "code",
   "execution_count": 70,
   "id": "a3f30d47",
   "metadata": {},
   "outputs": [
    {
     "name": "stdout",
     "output_type": "stream",
     "text": [
      "('foo', 'bar', 'baz', 'qux', 'quux', 'corge')\n"
     ]
    }
   ],
   "source": [
    "print(t)"
   ]
  },
  {
   "cell_type": "code",
   "execution_count": 71,
   "id": "4db24810",
   "metadata": {},
   "outputs": [
    {
     "data": {
      "text/plain": [
       "tuple"
      ]
     },
     "execution_count": 71,
     "metadata": {},
     "output_type": "execute_result"
    }
   ],
   "source": [
    "type(t)"
   ]
  },
  {
   "cell_type": "code",
   "execution_count": 72,
   "id": "395201d8",
   "metadata": {},
   "outputs": [
    {
     "name": "stdout",
     "output_type": "stream",
     "text": [
      "foo\n",
      "quux\n"
     ]
    }
   ],
   "source": [
    "print(t[0])\n",
    "print(t[-2])"
   ]
  },
  {
   "cell_type": "code",
   "execution_count": 73,
   "id": "fc6e9b24",
   "metadata": {},
   "outputs": [],
   "source": [
    "s1, s2, s3, s4, s5, s6 = t"
   ]
  },
  {
   "cell_type": "code",
   "execution_count": 74,
   "id": "2c4241e6",
   "metadata": {},
   "outputs": [
    {
     "name": "stdout",
     "output_type": "stream",
     "text": [
      "foo\n",
      "bar\n",
      "baz\n",
      "qux\n",
      "quux\n",
      "corge\n"
     ]
    }
   ],
   "source": [
    "print(s1)\n",
    "print(s2)\n",
    "print(s3)\n",
    "print(s4)\n",
    "print(s5)\n",
    "print(s6)"
   ]
  },
  {
   "cell_type": "markdown",
   "id": "418b60a7",
   "metadata": {},
   "source": [
    "# Dictionary"
   ]
  },
  {
   "cell_type": "code",
   "execution_count": 75,
   "id": "71643b63",
   "metadata": {},
   "outputs": [],
   "source": [
    "MLB_team = {\n",
    "    'Colorado' : 'Rockies',\n",
    "    'Boston' : 'Red Sox',\n",
    "    'Minnesota' : 'Twins'\n",
    "}"
   ]
  },
  {
   "cell_type": "code",
   "execution_count": 76,
   "id": "f62f9e04",
   "metadata": {},
   "outputs": [
    {
     "data": {
      "text/plain": [
       "'Rockies'"
      ]
     },
     "execution_count": 76,
     "metadata": {},
     "output_type": "execute_result"
    }
   ],
   "source": [
    "MLB_team['Colorado']"
   ]
  },
  {
   "cell_type": "code",
   "execution_count": 77,
   "id": "116a89da",
   "metadata": {},
   "outputs": [
    {
     "data": {
      "text/plain": [
       "'Twins'"
      ]
     },
     "execution_count": 77,
     "metadata": {},
     "output_type": "execute_result"
    }
   ],
   "source": [
    "MLB_team['Minnesota']"
   ]
  },
  {
   "cell_type": "code",
   "execution_count": 78,
   "id": "32083053",
   "metadata": {},
   "outputs": [
    {
     "data": {
      "text/plain": [
       "{'Colorado': 'Rockies',\n",
       " 'Boston': 'Red Sox',\n",
       " 'Minnesota': 'Twins',\n",
       " 'Kansas City': 'Royals'}"
      ]
     },
     "execution_count": 78,
     "metadata": {},
     "output_type": "execute_result"
    }
   ],
   "source": [
    "MLB_team['Kansas City'] = 'Royals'\n",
    "MLB_team"
   ]
  },
  {
   "cell_type": "code",
   "execution_count": 80,
   "id": "3a6b292e",
   "metadata": {},
   "outputs": [
    {
     "data": {
      "text/plain": [
       "{'Colorado': 'Rockies',\n",
       " 'Boston': 'RedSox',\n",
       " 'Minnesota': 'Twins',\n",
       " 'Kansas City': 'Royals'}"
      ]
     },
     "execution_count": 80,
     "metadata": {},
     "output_type": "execute_result"
    }
   ],
   "source": [
    "MLB_team['Boston'] = 'RedSox'\n",
    "MLB_team"
   ]
  },
  {
   "cell_type": "code",
   "execution_count": 82,
   "id": "d7e48d82",
   "metadata": {},
   "outputs": [
    {
     "ename": "KeyError",
     "evalue": "'Minnesota'",
     "output_type": "error",
     "traceback": [
      "\u001b[1;31m---------------------------------------------------------------------------\u001b[0m",
      "\u001b[1;31mKeyError\u001b[0m                                  Traceback (most recent call last)",
      "Cell \u001b[1;32mIn[82], line 1\u001b[0m\n\u001b[1;32m----> 1\u001b[0m \u001b[38;5;28;01mdel\u001b[39;00m MLB_team[\u001b[38;5;124m'\u001b[39m\u001b[38;5;124mMinnesota\u001b[39m\u001b[38;5;124m'\u001b[39m]\n\u001b[0;32m      2\u001b[0m MLB_team\n",
      "\u001b[1;31mKeyError\u001b[0m: 'Minnesota'"
     ]
    }
   ],
   "source": [
    "del MLB_team['Minnesota']"
   ]
  },
  {
   "cell_type": "code",
   "execution_count": 83,
   "id": "7a512dbd",
   "metadata": {},
   "outputs": [
    {
     "data": {
      "text/plain": [
       "{'Colorado': 'Rockies', 'Boston': 'RedSox', 'Kansas City': 'Royals'}"
      ]
     },
     "execution_count": 83,
     "metadata": {},
     "output_type": "execute_result"
    }
   ],
   "source": [
    "MLB_team"
   ]
  },
  {
   "cell_type": "code",
   "execution_count": 84,
   "id": "61a3ac82",
   "metadata": {},
   "outputs": [],
   "source": [
    "person = {}"
   ]
  },
  {
   "cell_type": "code",
   "execution_count": 85,
   "id": "866a9c69",
   "metadata": {},
   "outputs": [
    {
     "data": {
      "text/plain": [
       "dict"
      ]
     },
     "execution_count": 85,
     "metadata": {},
     "output_type": "execute_result"
    }
   ],
   "source": [
    "type(person)"
   ]
  },
  {
   "cell_type": "code",
   "execution_count": 86,
   "id": "0bd74174",
   "metadata": {},
   "outputs": [
    {
     "data": {
      "text/plain": [
       "{'fname': 'Hack',\n",
       " 'lname': 'PTP',\n",
       " 'Age': 51,\n",
       " 'spouse': 'Edna',\n",
       " 'children': ['Ralph', 'Betty', 'Joey'],\n",
       " 'pets': {'dog': 'Fido', 'cat': 'Sox'}}"
      ]
     },
     "execution_count": 86,
     "metadata": {},
     "output_type": "execute_result"
    }
   ],
   "source": [
    "person['fname'] = 'Hack'\n",
    "person['lname'] = 'PTP'\n",
    "person['Age'] = 51\n",
    "person['spouse'] = 'Edna'\n",
    "person['children'] = ['Ralph', 'Betty', 'Joey']\n",
    "person['pets'] = {\n",
    "    'dog' : 'Fido',\n",
    "    'cat' : 'Sox'\n",
    "}\n",
    "\n",
    "person"
   ]
  },
  {
   "cell_type": "code",
   "execution_count": 87,
   "id": "1c32295c",
   "metadata": {},
   "outputs": [
    {
     "name": "stdout",
     "output_type": "stream",
     "text": [
      "Hack\n",
      "51\n"
     ]
    }
   ],
   "source": [
    "print(person['fname'])\n",
    "print(person['Age'])"
   ]
  },
  {
   "cell_type": "code",
   "execution_count": 88,
   "id": "faaba5a0",
   "metadata": {},
   "outputs": [
    {
     "data": {
      "text/plain": [
       "'Betty'"
      ]
     },
     "execution_count": 88,
     "metadata": {},
     "output_type": "execute_result"
    }
   ],
   "source": [
    "person['children'][1]"
   ]
  },
  {
   "cell_type": "code",
   "execution_count": 89,
   "id": "9c5cf11e",
   "metadata": {},
   "outputs": [
    {
     "data": {
      "text/plain": [
       "'Sox'"
      ]
     },
     "execution_count": 89,
     "metadata": {},
     "output_type": "execute_result"
    }
   ],
   "source": [
    "person['pets']['cat']"
   ]
  },
  {
   "cell_type": "code",
   "execution_count": 90,
   "id": "4684d56a",
   "metadata": {},
   "outputs": [
    {
     "name": "stdout",
     "output_type": "stream",
     "text": [
      "dict_items([('fname', 'Hack'), ('lname', 'PTP'), ('Age', 51), ('spouse', 'Edna'), ('children', ['Ralph', 'Betty', 'Joey']), ('pets', {'dog': 'Fido', 'cat': 'Sox'})])\n"
     ]
    }
   ],
   "source": [
    "print(person.items())"
   ]
  },
  {
   "cell_type": "code",
   "execution_count": 91,
   "id": "22a505f4",
   "metadata": {},
   "outputs": [
    {
     "name": "stdout",
     "output_type": "stream",
     "text": [
      "dict_keys(['fname', 'lname', 'Age', 'spouse', 'children', 'pets'])\n"
     ]
    }
   ],
   "source": [
    "print(person.keys())"
   ]
  },
  {
   "cell_type": "code",
   "execution_count": 92,
   "id": "8f4f83e3",
   "metadata": {},
   "outputs": [
    {
     "name": "stdout",
     "output_type": "stream",
     "text": [
      "dict_values(['Hack', 'PTP', 51, 'Edna', ['Ralph', 'Betty', 'Joey'], {'dog': 'Fido', 'cat': 'Sox'}])\n"
     ]
    }
   ],
   "source": [
    "print(person.values())"
   ]
  },
  {
   "cell_type": "markdown",
   "id": "987fa353",
   "metadata": {},
   "source": [
    "# Line Continuation"
   ]
  },
  {
   "cell_type": "code",
   "execution_count": 93,
   "id": "0932cfc5",
   "metadata": {},
   "outputs": [],
   "source": [
    "person1_age= 42\n",
    "person2_age = 16\n",
    "person3_age = 71"
   ]
  },
  {
   "cell_type": "code",
   "execution_count": 94,
   "id": "c44d7c8d",
   "metadata": {},
   "outputs": [],
   "source": [
    "benarkah = (person1_age >=18 and person1_age <= 65) or (person2_age >=18 and person2_age <= 65) or (person3_age >=18 and person3_age <= 65)"
   ]
  },
  {
   "cell_type": "code",
   "execution_count": 95,
   "id": "e7a54abd",
   "metadata": {},
   "outputs": [
    {
     "data": {
      "text/plain": [
       "True"
      ]
     },
     "execution_count": 95,
     "metadata": {},
     "output_type": "execute_result"
    }
   ],
   "source": [
    "benarkah"
   ]
  },
  {
   "cell_type": "code",
   "execution_count": null,
   "id": "d2fd3fb3",
   "metadata": {},
   "outputs": [],
   "source": []
  }
 ],
 "metadata": {
  "kernelspec": {
   "display_name": "Python 3 (ipykernel)",
   "language": "python",
   "name": "python3"
  },
  "language_info": {
   "codemirror_mode": {
    "name": "ipython",
    "version": 3
   },
   "file_extension": ".py",
   "mimetype": "text/x-python",
   "name": "python",
   "nbconvert_exporter": "python",
   "pygments_lexer": "ipython3",
   "version": "3.11.4"
  },
  "toc": {
   "base_numbering": 1,
   "nav_menu": {},
   "number_sections": true,
   "sideBar": true,
   "skip_h1_title": false,
   "title_cell": "Table of Contents",
   "title_sidebar": "Contents",
   "toc_cell": false,
   "toc_position": {},
   "toc_section_display": true,
   "toc_window_display": false
  }
 },
 "nbformat": 4,
 "nbformat_minor": 5
}
