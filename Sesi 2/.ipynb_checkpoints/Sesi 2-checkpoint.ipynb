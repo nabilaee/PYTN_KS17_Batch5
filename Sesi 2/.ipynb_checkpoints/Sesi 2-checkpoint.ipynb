{
 "cells": [
  {
   "cell_type": "markdown",
   "id": "159a4713",
   "metadata": {},
   "source": [
    "# Conditional"
   ]
  },
  {
   "cell_type": "code",
   "execution_count": 7,
   "id": "d512af1f",
   "metadata": {},
   "outputs": [
    {
     "name": "stdout",
     "output_type": "stream",
     "text": [
      "yes\n"
     ]
    }
   ],
   "source": [
    "x = 0\n",
    "y = 5\n",
    "\n",
    "if x < y:\n",
    "    print('yes')"
   ]
  },
  {
   "cell_type": "code",
   "execution_count": 8,
   "id": "19eb411e",
   "metadata": {},
   "outputs": [],
   "source": [
    "if x:\n",
    "    print('yes')"
   ]
  },
  {
   "cell_type": "code",
   "execution_count": 9,
   "id": "10b5b035",
   "metadata": {},
   "outputs": [
    {
     "name": "stdout",
     "output_type": "stream",
     "text": [
      "yes\n"
     ]
    }
   ],
   "source": [
    "if y:\n",
    "    print('yes')"
   ]
  },
  {
   "cell_type": "code",
   "execution_count": 10,
   "id": "28b2eaec",
   "metadata": {},
   "outputs": [],
   "source": [
    "y = -3\n",
    "\n",
    "if x:\n",
    "    print('yes')\n",
    "    print('ok')\n",
    "    "
   ]
  },
  {
   "cell_type": "code",
   "execution_count": 11,
   "id": "7f178ea3",
   "metadata": {},
   "outputs": [
    {
     "name": "stdout",
     "output_type": "stream",
     "text": [
      "Expression was True\n",
      "Executing statement in suite\n",
      "...\n",
      "Done\n",
      "After Conditional\n"
     ]
    }
   ],
   "source": [
    "if 'foo' in ['bar', 'baz', 'qux', 'foo']:\n",
    "    print('Expression was True')\n",
    "    print('Executing statement in suite')\n",
    "    print('...')\n",
    "    print('Done')\n",
    "    \n",
    "print('After Conditional')"
   ]
  },
  {
   "cell_type": "code",
   "execution_count": 12,
   "id": "74e4e2e2",
   "metadata": {},
   "outputs": [
    {
     "name": "stdout",
     "output_type": "stream",
     "text": [
      "Outer condition is True\n",
      "Inner Condition 2\n",
      "End of Outer Condition\n",
      "After Conditional\n"
     ]
    }
   ],
   "source": [
    "if 'foo' in ['bar', 'baz', 'foo']:\n",
    "    print('Outer condition is True')\n",
    "    \n",
    "    if 10 > 20:\n",
    "        print('Inner Condition 1')\n",
    "    \n",
    "    if 10 < 20:\n",
    "        print('Inner Condition 2')\n",
    "    \n",
    "    print('End of Outer Condition')\n",
    "    \n",
    "print('After Conditional')"
   ]
  },
  {
   "cell_type": "markdown",
   "id": "83ced0e3",
   "metadata": {},
   "source": [
    "# Else & Elif clause"
   ]
  },
  {
   "cell_type": "code",
   "execution_count": 13,
   "id": "8f180393",
   "metadata": {},
   "outputs": [
    {
     "name": "stdout",
     "output_type": "stream",
     "text": [
      "(second suite)\n",
      "x is large\n"
     ]
    }
   ],
   "source": [
    "x = 60\n",
    "\n",
    "if x < 50: print('(first suite)'); print('x is small')\n",
    "else :\n",
    "    print('(second suite)')\n",
    "    print('x is large')"
   ]
  },
  {
   "cell_type": "code",
   "execution_count": 14,
   "id": "195a4772",
   "metadata": {},
   "outputs": [
    {
     "name": "stdout",
     "output_type": "stream",
     "text": [
      "uang tidak cukup\n"
     ]
    }
   ],
   "source": [
    "hargaBuku = 20000\n",
    "hargaMajalah = 5000\n",
    "uang = 2000\n",
    "\n",
    "if uang > hargaBuku:\n",
    "    print('beli Buku')\n",
    "else :\n",
    "    print('uang tidak cukup')"
   ]
  },
  {
   "cell_type": "code",
   "execution_count": 15,
   "id": "4c2094ab",
   "metadata": {},
   "outputs": [
    {
     "name": "stdout",
     "output_type": "stream",
     "text": [
      "uang tidak cukup\n"
     ]
    }
   ],
   "source": [
    "hargaBuku = 20000\n",
    "hargaMajalah = 5000\n",
    "uang = 2000\n",
    "\n",
    "if uang > hargaBuku:\n",
    "    print('beli Buku')\n",
    "elif uang > hargaMajalah:\n",
    "    print('beli Majalah')\n",
    "else :\n",
    "    print('uang tidak cukup')"
   ]
  },
  {
   "cell_type": "code",
   "execution_count": 16,
   "id": "4dfe6ced",
   "metadata": {},
   "outputs": [
    {
     "name": "stdout",
     "output_type": "stream",
     "text": [
      "Hello Hacktiv8\n"
     ]
    }
   ],
   "source": [
    "name = 'Hacktiv8'\n",
    "\n",
    "if name=='Fred':\n",
    "    print('Hello Fred!')\n",
    "elif name=='Xander':\n",
    "    print('Hello Xander')\n",
    "elif name=='Hacktiv8':\n",
    "    print('Hello Hacktiv8')\n",
    "elif name=='Arnorld':\n",
    "    print('Hello Arnold')\n",
    "else :\n",
    "    print(\"I don't know who you are!\")"
   ]
  },
  {
   "cell_type": "code",
   "execution_count": 17,
   "id": "61b7d098",
   "metadata": {},
   "outputs": [
    {
     "name": "stdout",
     "output_type": "stream",
     "text": [
      "foo\n"
     ]
    }
   ],
   "source": [
    "if 'a' in 'bar':\n",
    "    print('foo')"
   ]
  },
  {
   "cell_type": "markdown",
   "id": "bcd57edc",
   "metadata": {},
   "source": [
    "# If Statement"
   ]
  },
  {
   "cell_type": "code",
   "execution_count": 18,
   "id": "caf719bd",
   "metadata": {},
   "outputs": [
    {
     "name": "stdout",
     "output_type": "stream",
     "text": [
      "1\n",
      "2\n",
      "3\n"
     ]
    }
   ],
   "source": [
    "if '' in 'foo': print('1'); print('2'); print('3')"
   ]
  },
  {
   "cell_type": "code",
   "execution_count": 19,
   "id": "0c249d30",
   "metadata": {},
   "outputs": [
    {
     "name": "stdout",
     "output_type": "stream",
     "text": [
      "qux\n",
      "quux\n"
     ]
    }
   ],
   "source": [
    "x = 2\n",
    "\n",
    "if x==1 : print('foo'); print('bar'); print('baz')\n",
    "elif x==2 : print('qux'); print('quux')\n",
    "else : print('corge'); print('grault')"
   ]
  },
  {
   "cell_type": "markdown",
   "id": "5094ab87",
   "metadata": {},
   "source": [
    "# Conditional Expression"
   ]
  },
  {
   "cell_type": "code",
   "execution_count": 20,
   "id": "719456c4",
   "metadata": {},
   "outputs": [
    {
     "name": "stdout",
     "output_type": "stream",
     "text": [
      "Lets go to the beach\n"
     ]
    }
   ],
   "source": [
    "raining = False\n",
    "print('Lets go to the', 'beach' if not raining else 'library')"
   ]
  },
  {
   "cell_type": "code",
   "execution_count": 21,
   "id": "89581a81",
   "metadata": {},
   "outputs": [
    {
     "name": "stdout",
     "output_type": "stream",
     "text": [
      "Lets go to the library\n"
     ]
    }
   ],
   "source": [
    "raining = True\n",
    "print('Lets go to the', 'beach' if not raining else 'library')"
   ]
  },
  {
   "cell_type": "code",
   "execution_count": 22,
   "id": "cfd52bd6",
   "metadata": {},
   "outputs": [],
   "source": [
    "age = 12\n",
    "s = 'teen' if age<21 else 'adult'"
   ]
  },
  {
   "cell_type": "code",
   "execution_count": 23,
   "id": "463cc43c",
   "metadata": {},
   "outputs": [
    {
     "data": {
      "text/plain": [
       "'teen'"
      ]
     },
     "execution_count": 23,
     "metadata": {},
     "output_type": "execute_result"
    }
   ],
   "source": [
    "s"
   ]
  },
  {
   "cell_type": "code",
   "execution_count": 24,
   "id": "5a93dc67",
   "metadata": {},
   "outputs": [
    {
     "data": {
      "text/plain": [
       "'no'"
      ]
     },
     "execution_count": 24,
     "metadata": {},
     "output_type": "execute_result"
    }
   ],
   "source": [
    "'yes' if ('qux' in ['foo', 'bar', 'baz']) else 'no'"
   ]
  },
  {
   "cell_type": "code",
   "execution_count": 25,
   "id": "5c31fd8a",
   "metadata": {},
   "outputs": [],
   "source": [
    "# Python pass Statement"
   ]
  },
  {
   "cell_type": "code",
   "execution_count": 26,
   "id": "1205c998",
   "metadata": {},
   "outputs": [
    {
     "name": "stdout",
     "output_type": "stream",
     "text": [
      "foo\n"
     ]
    }
   ],
   "source": [
    "if 1 :\n",
    "    pass\n",
    "print('foo')"
   ]
  },
  {
   "cell_type": "code",
   "execution_count": 27,
   "id": "4c0ef2fd",
   "metadata": {},
   "outputs": [
    {
     "name": "stdout",
     "output_type": "stream",
     "text": [
      "4\n",
      "3\n",
      "2\n",
      "1\n",
      "0\n"
     ]
    }
   ],
   "source": [
    "n = 5\n",
    "while n > 0:\n",
    "    n -= 1\n",
    "    print(n)"
   ]
  },
  {
   "cell_type": "code",
   "execution_count": 28,
   "id": "ade695ca",
   "metadata": {},
   "outputs": [
    {
     "name": "stdout",
     "output_type": "stream",
     "text": [
      "1\n",
      "2\n",
      "3\n",
      "4\n",
      "5\n"
     ]
    }
   ],
   "source": [
    "i = 1\n",
    "while i < 6:\n",
    "    print(i)\n",
    "    i += 1"
   ]
  },
  {
   "cell_type": "code",
   "execution_count": 29,
   "id": "a0094263",
   "metadata": {},
   "outputs": [
    {
     "name": "stdout",
     "output_type": "stream",
     "text": [
      "4\n",
      "3\n",
      "Loop Ended.\n"
     ]
    }
   ],
   "source": [
    "n = 5\n",
    "while n > 0:\n",
    "    n -= 1\n",
    "    if n == 2:\n",
    "        break\n",
    "    print(n)\n",
    "print('Loop Ended.')"
   ]
  },
  {
   "cell_type": "code",
   "execution_count": 30,
   "id": "68e311ec",
   "metadata": {},
   "outputs": [
    {
     "name": "stdout",
     "output_type": "stream",
     "text": [
      "4\n",
      "3\n",
      "1\n",
      "0\n",
      "Loop Ended.\n"
     ]
    }
   ],
   "source": [
    "n = 5\n",
    "while n > 0:\n",
    "    n -= 1\n",
    "    if n == 2:\n",
    "        continue\n",
    "    print(n)\n",
    "print('Loop Ended.')"
   ]
  },
  {
   "cell_type": "code",
   "execution_count": 31,
   "id": "56471c5e",
   "metadata": {},
   "outputs": [
    {
     "name": "stdout",
     "output_type": "stream",
     "text": [
      "4\n",
      "3\n",
      "1\n",
      "0\n",
      "Loop Ended.\n"
     ]
    }
   ],
   "source": [
    "# else clause\n",
    "n = 5\n",
    "while n > 0:\n",
    "    n -= 1\n",
    "    if n == 2:\n",
    "        continue\n",
    "    print(n)\n",
    "print('Loop Ended.')"
   ]
  },
  {
   "cell_type": "code",
   "execution_count": 32,
   "id": "e6b3d3a6",
   "metadata": {},
   "outputs": [
    {
     "name": "stdout",
     "output_type": "stream",
     "text": [
      "4\n",
      "3\n",
      "2\n"
     ]
    }
   ],
   "source": [
    "n = 5\n",
    "while n > 0:\n",
    "    n -= 1\n",
    "    print(n)\n",
    "    if n == 2:\n",
    "        break\n",
    "else :\n",
    "    print('Loop Ended.')"
   ]
  },
  {
   "cell_type": "code",
   "execution_count": null,
   "id": "d3f62dda",
   "metadata": {},
   "outputs": [],
   "source": [
    "#Nested while loop\n",
    "a = ['foo', 'bar']\n",
    "\n",
    "while len(a):\n",
    "    print(a.pop(0))\n",
    "    \n",
    "    b = ['baz', 'qux']\n",
    "    while len(b):\n",
    "        print('>', b.pop(0))"
   ]
  },
  {
   "cell_type": "code",
   "execution_count": null,
   "id": "abfb98ee",
   "metadata": {},
   "outputs": [],
   "source": [
    "#one-line while loop\n",
    "n = 5\n",
    "\n",
    "while n > 0: n-=1; print(n)"
   ]
  },
  {
   "cell_type": "code",
   "execution_count": null,
   "id": "8a09c0b3",
   "metadata": {},
   "outputs": [],
   "source": [
    "#for loop\n",
    "a = ['foo', 'bar', 'baz']\n",
    "\n",
    "for val in a:\n",
    "    print(val)"
   ]
  },
  {
   "cell_type": "code",
   "execution_count": null,
   "id": "d2ccdd7d",
   "metadata": {},
   "outputs": [],
   "source": [
    "#loop with dict\n",
    "d = {'foo' : 1,\n",
    "     'bar' : 2,\n",
    "     'baz' : 3}"
   ]
  },
  {
   "cell_type": "code",
   "execution_count": null,
   "id": "383a992e",
   "metadata": {},
   "outputs": [],
   "source": [
    "for k in d:\n",
    "    print(k)"
   ]
  },
  {
   "cell_type": "code",
   "execution_count": null,
   "id": "e42e7d7a",
   "metadata": {},
   "outputs": [],
   "source": [
    "d['bar']"
   ]
  },
  {
   "cell_type": "code",
   "execution_count": null,
   "id": "65e04b65",
   "metadata": {},
   "outputs": [],
   "source": [
    "for k in d:\n",
    "    print(d[k])"
   ]
  },
  {
   "cell_type": "code",
   "execution_count": null,
   "id": "ca658852",
   "metadata": {},
   "outputs": [],
   "source": [
    "for k in d.values():\n",
    "    print(k)"
   ]
  },
  {
   "cell_type": "code",
   "execution_count": null,
   "id": "282249f4",
   "metadata": {},
   "outputs": [],
   "source": [
    "for k, v in d.items():\n",
    "    print(k, ':', v)"
   ]
  },
  {
   "cell_type": "code",
   "execution_count": null,
   "id": "edbcd2e3",
   "metadata": {},
   "outputs": [],
   "source": [
    "#loop with range\n",
    "for n in (0, 1, 2, 3, 4):\n",
    "    print(n)"
   ]
  },
  {
   "cell_type": "code",
   "execution_count": null,
   "id": "091a6859",
   "metadata": {},
   "outputs": [],
   "source": [
    "for n in range(6):\n",
    "    print(n)"
   ]
  },
  {
   "cell_type": "code",
   "execution_count": null,
   "id": "5d7beab7",
   "metadata": {},
   "outputs": [],
   "source": [
    "#Altering loop behaviour\n",
    "for i in ['foo', 'bar', 'baz', 'qux']:\n",
    "    if 'b' in i:\n",
    "        break\n",
    "    print(i)"
   ]
  },
  {
   "cell_type": "code",
   "execution_count": null,
   "id": "e9de0434",
   "metadata": {},
   "outputs": [],
   "source": [
    "for i in ['foo', 'bar', 'baz', 'qux']:\n",
    "    if 'b' in i:\n",
    "        continue\n",
    "    print(i)"
   ]
  },
  {
   "cell_type": "code",
   "execution_count": null,
   "id": "959d5ee0",
   "metadata": {},
   "outputs": [],
   "source": [
    "#else clause\n",
    "for i in ['foo', 'bar', 'baz', 'qux']:\n",
    "    print(i)\n",
    "else : \n",
    "    print('Done')"
   ]
  },
  {
   "cell_type": "code",
   "execution_count": null,
   "id": "6060de19",
   "metadata": {},
   "outputs": [],
   "source": [
    "for i in ['foo', 'bar', 'baz', 'qux']:\n",
    "    if 'bar' == i:\n",
    "        break\n",
    "    print(i)\n",
    "else : \n",
    "    print('Done')"
   ]
  },
  {
   "cell_type": "markdown",
   "id": "938269a4",
   "metadata": {},
   "source": [
    "# Example"
   ]
  },
  {
   "cell_type": "code",
   "execution_count": null,
   "id": "1edb5a12",
   "metadata": {},
   "outputs": [],
   "source": [
    "temp = input('Ketikan Temperatur yang ingin dikonversi, eg. 45F, 120C: ')\n",
    "degree = int(temp[:-1])\n",
    "satuan = temp[-1].upper()\n",
    "\n",
    "if satuan == 'C':\n",
    "    result = int(round((9 * degree) / 5 + 32))\n",
    "elif satuan == 'F':\n",
    "    result = int(round((degree - 32) + 5/ 9))\n",
    "else : \n",
    "    print('Masukan input yang benar')\n",
    "    \n",
    "print('Temperaturnya adalah', result, 'derajat')"
   ]
  },
  {
   "cell_type": "code",
   "execution_count": null,
   "id": "4d38708b",
   "metadata": {},
   "outputs": [],
   "source": [
    "while True:\n",
    "    msg = input('Ketikan karakter: ').lower()\n",
    "    print(msg)\n",
    "    if msg == 'stop':\n",
    "        break"
   ]
  }
 ],
 "metadata": {
  "kernelspec": {
   "display_name": "Python 3 (ipykernel)",
   "language": "python",
   "name": "python3"
  },
  "language_info": {
   "codemirror_mode": {
    "name": "ipython",
    "version": 3
   },
   "file_extension": ".py",
   "mimetype": "text/x-python",
   "name": "python",
   "nbconvert_exporter": "python",
   "pygments_lexer": "ipython3",
   "version": "3.11.4"
  },
  "toc": {
   "base_numbering": 1,
   "nav_menu": {},
   "number_sections": true,
   "sideBar": true,
   "skip_h1_title": false,
   "title_cell": "Table of Contents",
   "title_sidebar": "Contents",
   "toc_cell": false,
   "toc_position": {},
   "toc_section_display": true,
   "toc_window_display": false
  }
 },
 "nbformat": 4,
 "nbformat_minor": 5
}
