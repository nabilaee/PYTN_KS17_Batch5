{
 "cells": [
  {
   "cell_type": "markdown",
   "id": "89fd673b",
   "metadata": {},
   "source": [
    "# Python Function"
   ]
  },
  {
   "cell_type": "code",
   "execution_count": 1,
   "id": "a026be49",
   "metadata": {},
   "outputs": [
    {
     "name": "stdout",
     "output_type": "stream",
     "text": [
      "Return the sum of a 'start' value (default: 0) plus an iterable of numbers\n",
      "\n",
      "When the iterable is empty, return the start value.\n",
      "This function is intended specifically for use with numeric values and may\n",
      "reject non-numeric types.\n"
     ]
    }
   ],
   "source": [
    "print(sum.__doc__)"
   ]
  },
  {
   "cell_type": "code",
   "execution_count": 2,
   "id": "07a67920",
   "metadata": {},
   "outputs": [],
   "source": [
    "# defining function\n",
    "def my_function(p, l):\n",
    "    '''\n",
    "    Funtion untuk menghitung luas\n",
    "    '''\n",
    "    print(p*l)"
   ]
  },
  {
   "cell_type": "code",
   "execution_count": 3,
   "id": "0f81e79c",
   "metadata": {},
   "outputs": [
    {
     "name": "stdout",
     "output_type": "stream",
     "text": [
      "8\n"
     ]
    }
   ],
   "source": [
    "my_function(4,2)"
   ]
  },
  {
   "cell_type": "code",
   "execution_count": 4,
   "id": "6053f6c3",
   "metadata": {},
   "outputs": [],
   "source": [
    "def printme(str):\n",
    "    '''\n",
    "    This print a passed string into this function\n",
    "    '''\n",
    "    print(str)\n",
    "    return"
   ]
  },
  {
   "cell_type": "code",
   "execution_count": 5,
   "id": "eb822265",
   "metadata": {},
   "outputs": [
    {
     "name": "stdout",
     "output_type": "stream",
     "text": [
      "doodleedoo\n"
     ]
    }
   ],
   "source": [
    "# calling a function\n",
    "printme('doodleedoo')"
   ]
  },
  {
   "cell_type": "code",
   "execution_count": 6,
   "id": "94705d13",
   "metadata": {},
   "outputs": [
    {
     "name": "stdout",
     "output_type": "stream",
     "text": [
      "coba print lagi\n"
     ]
    }
   ],
   "source": [
    "printme('coba print lagi')"
   ]
  },
  {
   "cell_type": "code",
   "execution_count": 7,
   "id": "0a003858",
   "metadata": {},
   "outputs": [],
   "source": [
    "# Pass by reference VS value\n",
    "def changeMe(mylist):\n",
    "    '''\n",
    "    This changes a passed list into this function\n",
    "    '''\n",
    "    mylist.append([1, 2, 3, 4])\n",
    "    print('values inside the function: ', mylist)\n",
    "    return"
   ]
  },
  {
   "cell_type": "code",
   "execution_count": 8,
   "id": "dae73b62",
   "metadata": {},
   "outputs": [
    {
     "name": "stdout",
     "output_type": "stream",
     "text": [
      "values inside the function:  [10, 20, 30, [1, 2, 3, 4]]\n",
      "values inside the function:  [10, 20, 30, [1, 2, 3, 4]]\n"
     ]
    }
   ],
   "source": [
    "mylist = [10, 20, 30]\n",
    "changeMe(mylist)\n",
    "print('values inside the function: ', mylist)"
   ]
  },
  {
   "cell_type": "code",
   "execution_count": 9,
   "id": "fe3c036a",
   "metadata": {},
   "outputs": [],
   "source": [
    "def change_me(mylist):\n",
    "    '''\n",
    "    This changes a passed list into this function\n",
    "    '''\n",
    "    mylist = [1, 2, 3, 4]\n",
    "    print('values inside the function: ', mylist)\n",
    "    return"
   ]
  },
  {
   "cell_type": "code",
   "execution_count": 10,
   "id": "c06c2b61",
   "metadata": {},
   "outputs": [
    {
     "name": "stdout",
     "output_type": "stream",
     "text": [
      "values inside the function:  [1, 2, 3, 4]\n",
      "values inside the function:  [10, 20, 30]\n"
     ]
    }
   ],
   "source": [
    "mylist = [10, 20, 30]\n",
    "change_me(mylist)\n",
    "print('values inside the function: ', mylist)"
   ]
  },
  {
   "cell_type": "code",
   "execution_count": 11,
   "id": "397ddb2b",
   "metadata": {},
   "outputs": [],
   "source": [
    "# function arguments\n",
    "# Required Arguments\n",
    "def printme(str):\n",
    "    '''\n",
    "    This print a passed string into this function\n",
    "    '''\n",
    "    print(str)\n",
    "    return"
   ]
  },
  {
   "cell_type": "code",
   "execution_count": 12,
   "id": "10375afe",
   "metadata": {},
   "outputs": [
    {
     "ename": "TypeError",
     "evalue": "printme() missing 1 required positional argument: 'str'",
     "output_type": "error",
     "traceback": [
      "\u001b[1;31m---------------------------------------------------------------------------\u001b[0m",
      "\u001b[1;31mTypeError\u001b[0m                                 Traceback (most recent call last)",
      "Cell \u001b[1;32mIn[12], line 1\u001b[0m\n\u001b[1;32m----> 1\u001b[0m printme()\n",
      "\u001b[1;31mTypeError\u001b[0m: printme() missing 1 required positional argument: 'str'"
     ]
    }
   ],
   "source": [
    "printme()"
   ]
  },
  {
   "cell_type": "code",
   "execution_count": 13,
   "id": "078e446c",
   "metadata": {},
   "outputs": [],
   "source": [
    "# Keyword Arguments\n",
    "def printInfo(name, age):\n",
    "    '''\n",
    "    This Print Name and Age\n",
    "    '''\n",
    "    print('Name :', name)\n",
    "    print('Age :', age)\n",
    "    return"
   ]
  },
  {
   "cell_type": "code",
   "execution_count": 14,
   "id": "7946d06c",
   "metadata": {},
   "outputs": [
    {
     "name": "stdout",
     "output_type": "stream",
     "text": [
      "Name : Hacktiv8\n",
      "Age : 4\n"
     ]
    }
   ],
   "source": [
    "printInfo(age=4, name='Hacktiv8')"
   ]
  },
  {
   "cell_type": "code",
   "execution_count": 15,
   "id": "2533d572",
   "metadata": {},
   "outputs": [],
   "source": [
    "# Default Arguments\n",
    "def printInfo(name, age=30):\n",
    "    '''\n",
    "    This Print Name and Age\n",
    "    '''\n",
    "    print('Name :', name)\n",
    "    print('Age :', age)\n",
    "    return"
   ]
  },
  {
   "cell_type": "code",
   "execution_count": 16,
   "id": "35aaad20",
   "metadata": {},
   "outputs": [
    {
     "name": "stdout",
     "output_type": "stream",
     "text": [
      "Name : Hacktiv8\n",
      "Age : 12\n",
      "Name : Fulan\n",
      "Age : 30\n"
     ]
    }
   ],
   "source": [
    "printInfo('Hacktiv8', 12)\n",
    "printInfo('Fulan')"
   ]
  },
  {
   "cell_type": "code",
   "execution_count": 17,
   "id": "4eb33483",
   "metadata": {},
   "outputs": [],
   "source": [
    "# variable-length arguments\n",
    "def print_info(arg1, *vartuple):\n",
    "    '''\n",
    "    this prints a variable passed arguments\n",
    "    '''\n",
    "    print('Output is :')\n",
    "    # print(arg1)\n",
    "    for val in vartuple:\n",
    "        print(val)\n",
    "    return"
   ]
  },
  {
   "cell_type": "code",
   "execution_count": 18,
   "id": "10649099",
   "metadata": {},
   "outputs": [
    {
     "name": "stdout",
     "output_type": "stream",
     "text": [
      "Output is :\n"
     ]
    }
   ],
   "source": [
    "print_info(10)"
   ]
  },
  {
   "cell_type": "code",
   "execution_count": 19,
   "id": "00b44489",
   "metadata": {},
   "outputs": [
    {
     "name": "stdout",
     "output_type": "stream",
     "text": [
      "Output is :\n",
      "3.2\n",
      "a\n",
      "True\n"
     ]
    }
   ],
   "source": [
    "print_info(70, 3.2, 'a', True)"
   ]
  },
  {
   "cell_type": "code",
   "execution_count": 20,
   "id": "b7c2fe4f",
   "metadata": {},
   "outputs": [],
   "source": [
    "# Anonymous Function\n",
    "sum_1 = lambda arg1, arg2: arg1 + arg2\n",
    "\n",
    "def sum_2(arg1, arg2):\n",
    "    return arg1 + arg2"
   ]
  },
  {
   "cell_type": "code",
   "execution_count": 21,
   "id": "bad5b704",
   "metadata": {},
   "outputs": [
    {
     "name": "stdout",
     "output_type": "stream",
     "text": [
      "2 + 3 from sum_1 :  5\n",
      "2 + 3 from sum_2 :  5\n"
     ]
    }
   ],
   "source": [
    "print('2 + 3 from sum_1 : ', sum_1(2,3))\n",
    "print('2 + 3 from sum_2 : ', sum_2(2,3))"
   ]
  },
  {
   "cell_type": "code",
   "execution_count": 22,
   "id": "4a3e869e",
   "metadata": {},
   "outputs": [],
   "source": [
    "# Return Statement\n",
    "def sum(arg1, arg2):\n",
    "    '''\n",
    "    Add both paramaters and return them.\n",
    "    '''\n",
    "    total = arg1 + arg2\n",
    "    total2 = total + arg1\n",
    "    print('Inside the Function :', total)\n",
    "    return total2"
   ]
  },
  {
   "cell_type": "code",
   "execution_count": 23,
   "id": "923dd9f4",
   "metadata": {},
   "outputs": [
    {
     "name": "stdout",
     "output_type": "stream",
     "text": [
      "Inside the Function : 30\n",
      "Outside the Function : 40\n"
     ]
    }
   ],
   "source": [
    "total = sum(10, 20)\n",
    "print('Outside the Function :', total)"
   ]
  },
  {
   "cell_type": "code",
   "execution_count": 24,
   "id": "8b73e7da",
   "metadata": {},
   "outputs": [
    {
     "name": "stdout",
     "output_type": "stream",
     "text": [
      "Inside the function local total : 30\n",
      "Outside the function global total : 0\n"
     ]
    }
   ],
   "source": [
    "#Scope of variable\n",
    "\n",
    "# Global vs. Local Variable\n",
    "\n",
    "total = 0\n",
    "\n",
    "def sum(arg1, arg2):\n",
    "    total = arg1 + arg2\n",
    "    print('Inside the function local total :', total)\n",
    "    return total\n",
    "\n",
    "sum(10,20)\n",
    "print('Outside the function global total :', total)"
   ]
  },
  {
   "cell_type": "code",
   "execution_count": 25,
   "id": "6dd4d93d",
   "metadata": {},
   "outputs": [
    {
     "name": "stdout",
     "output_type": "stream",
     "text": [
      "50\n",
      "40\n"
     ]
    }
   ],
   "source": [
    "jumlah_kucing = 20\n",
    "\n",
    "def jumlah_hewan():\n",
    "    jumlah_anjing = 30\n",
    "    return jumlah_kucing + jumlah_anjing\n",
    "\n",
    "def jumlah_kucing2():\n",
    "    return jumlah_kucing + jumlah_kucing\n",
    "\n",
    "print(jumlah_hewan())\n",
    "print(jumlah_kucing2())"
   ]
  },
  {
   "cell_type": "code",
   "execution_count": 26,
   "id": "836cf4b7",
   "metadata": {},
   "outputs": [],
   "source": [
    "list_ = [3, 2, 1]"
   ]
  },
  {
   "cell_type": "code",
   "execution_count": 27,
   "id": "08a674b3",
   "metadata": {},
   "outputs": [
    {
     "data": {
      "text/plain": [
       "[3, 2, 1, 4]"
      ]
     },
     "execution_count": 27,
     "metadata": {},
     "output_type": "execute_result"
    }
   ],
   "source": [
    "list_.append(4)\n",
    "list_"
   ]
  },
  {
   "cell_type": "markdown",
   "id": "e75aa952",
   "metadata": {},
   "source": [
    "# Python Module : Overview"
   ]
  },
  {
   "cell_type": "code",
   "execution_count": 28,
   "id": "38f018af",
   "metadata": {},
   "outputs": [],
   "source": [
    "import mod"
   ]
  },
  {
   "cell_type": "code",
   "execution_count": null,
   "id": "e69cdf33",
   "metadata": {},
   "outputs": [],
   "source": []
  },
  {
   "cell_type": "code",
   "execution_count": 29,
   "id": "eeb9b076",
   "metadata": {},
   "outputs": [
    {
     "ename": "AttributeError",
     "evalue": "module 'mod' has no attribute 's'",
     "output_type": "error",
     "traceback": [
      "\u001b[1;31m---------------------------------------------------------------------------\u001b[0m",
      "\u001b[1;31mAttributeError\u001b[0m                            Traceback (most recent call last)",
      "Cell \u001b[1;32mIn[29], line 1\u001b[0m\n\u001b[1;32m----> 1\u001b[0m mod\u001b[38;5;241m.\u001b[39ms\n",
      "\u001b[1;31mAttributeError\u001b[0m: module 'mod' has no attribute 's'"
     ]
    }
   ],
   "source": [
    "mod.s"
   ]
  },
  {
   "cell_type": "code",
   "execution_count": 30,
   "id": "2c1961f7",
   "metadata": {},
   "outputs": [
    {
     "ename": "AttributeError",
     "evalue": "module 'mod' has no attribute 'a'",
     "output_type": "error",
     "traceback": [
      "\u001b[1;31m---------------------------------------------------------------------------\u001b[0m",
      "\u001b[1;31mAttributeError\u001b[0m                            Traceback (most recent call last)",
      "Cell \u001b[1;32mIn[30], line 1\u001b[0m\n\u001b[1;32m----> 1\u001b[0m \u001b[38;5;28;01mfor\u001b[39;00m val \u001b[38;5;129;01min\u001b[39;00m mod\u001b[38;5;241m.\u001b[39ma:\n\u001b[0;32m      2\u001b[0m     \u001b[38;5;28mprint\u001b[39m(val)\n",
      "\u001b[1;31mAttributeError\u001b[0m: module 'mod' has no attribute 'a'"
     ]
    }
   ],
   "source": [
    "for val in mod.a:\n",
    "    print(val)"
   ]
  },
  {
   "cell_type": "code",
   "execution_count": 31,
   "id": "5dba2f5e",
   "metadata": {},
   "outputs": [
    {
     "ename": "AttributeError",
     "evalue": "module 'mod' has no attribute 'foo'",
     "output_type": "error",
     "traceback": [
      "\u001b[1;31m---------------------------------------------------------------------------\u001b[0m",
      "\u001b[1;31mAttributeError\u001b[0m                            Traceback (most recent call last)",
      "Cell \u001b[1;32mIn[31], line 1\u001b[0m\n\u001b[1;32m----> 1\u001b[0m mod\u001b[38;5;241m.\u001b[39mfoo([\u001b[38;5;124m'\u001b[39m\u001b[38;5;124mfoo\u001b[39m\u001b[38;5;124m'\u001b[39m, \u001b[38;5;124m'\u001b[39m\u001b[38;5;124mbar\u001b[39m\u001b[38;5;124m'\u001b[39m, \u001b[38;5;124m'\u001b[39m\u001b[38;5;124mqux\u001b[39m\u001b[38;5;124m'\u001b[39m])\n",
      "\u001b[1;31mAttributeError\u001b[0m: module 'mod' has no attribute 'foo'"
     ]
    }
   ],
   "source": [
    "mod.foo(['foo', 'bar', 'qux'])"
   ]
  },
  {
   "cell_type": "code",
   "execution_count": null,
   "id": "c574d89c",
   "metadata": {},
   "outputs": [],
   "source": []
  }
 ],
 "metadata": {
  "kernelspec": {
   "display_name": "Python 3 (ipykernel)",
   "language": "python",
   "name": "python3"
  },
  "language_info": {
   "codemirror_mode": {
    "name": "ipython",
    "version": 3
   },
   "file_extension": ".py",
   "mimetype": "text/x-python",
   "name": "python",
   "nbconvert_exporter": "python",
   "pygments_lexer": "ipython3",
   "version": "3.11.4"
  },
  "toc": {
   "base_numbering": 1,
   "nav_menu": {},
   "number_sections": true,
   "sideBar": true,
   "skip_h1_title": false,
   "title_cell": "Table of Contents",
   "title_sidebar": "Contents",
   "toc_cell": false,
   "toc_position": {},
   "toc_section_display": true,
   "toc_window_display": false
  }
 },
 "nbformat": 4,
 "nbformat_minor": 5
}
