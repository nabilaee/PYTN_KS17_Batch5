{
 "cells": [
  {
   "cell_type": "code",
   "execution_count": 5,
   "id": "f7e47e8e",
   "metadata": {},
   "outputs": [],
   "source": [
    "import numpy as np\n",
    "import math"
   ]
  },
  {
   "cell_type": "code",
   "execution_count": 3,
   "id": "6f83e561",
   "metadata": {},
   "outputs": [
    {
     "data": {
      "text/plain": [
       "20"
      ]
     },
     "execution_count": 3,
     "metadata": {},
     "output_type": "execute_result"
    }
   ],
   "source": [
    "arr = np.array([6, 7, 9, 12, 26])\n",
    "def jangkauan (arr):\n",
    "    return arr.max() - arr.min()\n",
    "\n",
    "jangkauan(arr)"
   ]
  },
  {
   "cell_type": "code",
   "execution_count": 4,
   "id": "7291c7f5",
   "metadata": {},
   "outputs": [
    {
     "data": {
      "text/plain": [
       "6.25"
      ]
     },
     "execution_count": 4,
     "metadata": {},
     "output_type": "execute_result"
    }
   ],
   "source": [
    "arr = np.array([10, 15, 20, 25, 30, 35])\n",
    "def quartil (arr):\n",
    "    return 1/2 * (np.percentile(arr, 75) - np.percentile(arr, 25))\n",
    "\n",
    "quartil(arr)"
   ]
  },
  {
   "cell_type": "code",
   "execution_count": 16,
   "id": "7894d701",
   "metadata": {},
   "outputs": [
    {
     "data": {
      "text/plain": [
       "5.916079783099616"
      ]
     },
     "execution_count": 16,
     "metadata": {},
     "output_type": "execute_result"
    }
   ],
   "source": [
    "arr = np.array([3, 9, 12, 15, 18, 21])\n",
    "def simpangan_baku (arr) :\n",
    "    return np.sqrt(np.sum((arr - np.mean(arr))**2) / np.size(arr))\n",
    "\n",
    "simpangan_baku(arr)"
   ]
  },
  {
   "cell_type": "code",
   "execution_count": 26,
   "id": "c8db0c9f",
   "metadata": {},
   "outputs": [
    {
     "data": {
      "text/plain": [
       "3.0"
      ]
     },
     "execution_count": 26,
     "metadata": {},
     "output_type": "execute_result"
    }
   ],
   "source": [
    "arr = np.array([2, 4, 6, 8, 10, 12])\n",
    "def simpangan_rata2 (arr) :\n",
    "    nilai_mutlak = abs(arr - np.mean(arr))\n",
    "    return np.sum(nilai_mutlak) / np.size(arr)\n",
    "\n",
    "simpangan_rata2(arr)"
   ]
  },
  {
   "cell_type": "code",
   "execution_count": 27,
   "id": "0ed57bc2",
   "metadata": {},
   "outputs": [
    {
     "data": {
      "text/plain": [
       "16.13888888888889"
      ]
     },
     "execution_count": 27,
     "metadata": {},
     "output_type": "execute_result"
    }
   ],
   "source": [
    "arr = np.array([2, 3, 5, 7, 11, 13])\n",
    "def ragam (arr):\n",
    "    return np.sum((arr - np.mean(arr))**2) / np.size(arr)\n",
    "\n",
    "ragam (arr)"
   ]
  }
 ],
 "metadata": {
  "kernelspec": {
   "display_name": "Python 3 (ipykernel)",
   "language": "python",
   "name": "python3"
  },
  "language_info": {
   "codemirror_mode": {
    "name": "ipython",
    "version": 3
   },
   "file_extension": ".py",
   "mimetype": "text/x-python",
   "name": "python",
   "nbconvert_exporter": "python",
   "pygments_lexer": "ipython3",
   "version": "3.11.4"
  },
  "toc": {
   "base_numbering": 1,
   "nav_menu": {},
   "number_sections": true,
   "sideBar": true,
   "skip_h1_title": false,
   "title_cell": "Table of Contents",
   "title_sidebar": "Contents",
   "toc_cell": false,
   "toc_position": {},
   "toc_section_display": true,
   "toc_window_display": false
  }
 },
 "nbformat": 4,
 "nbformat_minor": 5
}
